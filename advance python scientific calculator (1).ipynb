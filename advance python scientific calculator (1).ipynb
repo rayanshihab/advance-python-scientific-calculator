{
 "cells": [
  {
   "cell_type": "code",
   "execution_count": 3,
   "id": "9b692998-c551-403e-9386-396eacd103ef",
   "metadata": {},
   "outputs": [
    {
     "name": "stdin",
     "output_type": "stream",
     "text": [
      "please add num1 5 \n",
      "please enter the operator +\n",
      "please add num2 9\n"
     ]
    },
    {
     "name": "stdout",
     "output_type": "stream",
     "text": [
      "14.0\n"
     ]
    },
    {
     "name": "stdin",
     "output_type": "stream",
     "text": [
      "\n",
      "Enter operation (or type 'exit' to quit): sin , cos , tan , ln , log  ln\n",
      "Enter value:  2.71\n"
     ]
    },
    {
     "name": "stdout",
     "output_type": "stream",
     "text": [
      "Result: 0.9969486348916096\n"
     ]
    },
    {
     "name": "stdin",
     "output_type": "stream",
     "text": [
      "Enter operation: asin ,acos , atan  asin\n",
      "Enter value:  1\n"
     ]
    },
    {
     "name": "stdout",
     "output_type": "stream",
     "text": [
      "Result in radians: 1.5707963267948966\n",
      "Result in degrees: 90.0\n",
      "Enter the number of rows and columns for matrix A (e.g., '2 2' for a 2x2 matrix):\n"
     ]
    },
    {
     "name": "stdin",
     "output_type": "stream",
     "text": [
      " 2 2\n"
     ]
    },
    {
     "name": "stdout",
     "output_type": "stream",
     "text": [
      "Enter the elements of matrix A row by row (space-separated):\n"
     ]
    },
    {
     "name": "stdin",
     "output_type": "stream",
     "text": [
      " 2 6 \n",
      " 7 9\n"
     ]
    },
    {
     "name": "stdout",
     "output_type": "stream",
     "text": [
      "Enter the number of rows and columns for matrix B (e.g., '2 2' for a 2x2 matrix):\n"
     ]
    },
    {
     "name": "stdin",
     "output_type": "stream",
     "text": [
      " 2 2\n"
     ]
    },
    {
     "name": "stdout",
     "output_type": "stream",
     "text": [
      "Enter the elements of matrix B row by row (space-separated):\n"
     ]
    },
    {
     "name": "stdin",
     "output_type": "stream",
     "text": [
      " 6 3\n",
      " 4 2\n"
     ]
    },
    {
     "name": "stdout",
     "output_type": "stream",
     "text": [
      "\n",
      "Matrix Addition (A + B):\n",
      " [[ 8.  9.]\n",
      " [11. 11.]]\n",
      "\n",
      "Matrix Multiplication (A * B):\n",
      " [[36. 18.]\n",
      " [78. 39.]]\n",
      "\n",
      "Matrix Transpose of A:\n",
      " [[2. 7.]\n",
      " [6. 9.]]\n",
      "\n",
      "Matrix Transpose of B:\n",
      " [[6. 4.]\n",
      " [3. 2.]]\n",
      "\n",
      "Determinant of A: -23.999999999999993\n",
      "\n",
      "Inverse of A:\n",
      " [[-0.375       0.25      ]\n",
      " [ 0.29166667 -0.08333333]]\n",
      "\n",
      "Enter the elements of vector b (space-separated):\n"
     ]
    },
    {
     "name": "stdin",
     "output_type": "stream",
     "text": [
      " 4 5\n"
     ]
    },
    {
     "name": "stdout",
     "output_type": "stream",
     "text": [
      "\n",
      "Solution to Ax = b:\n",
      " [-0.25  0.75]\n",
      "\n",
      "Eigenvalues of A:\n",
      " [-1.86545993 12.86545993]\n",
      "\n",
      "Eigenvectors of A:\n",
      " [[-0.84064801 -0.48340241]\n",
      " [ 0.54158187 -0.87539826]]\n",
      "General Solution: Eq(y(t), C1*exp(-t) + exp(t)/2)\n"
     ]
    },
    {
     "data": {
      "image/png": "[encoded data removed]",
      "text/plain": [
       "<Figure size 640x480 with 1 Axes>"
      ]
     },
     "metadata": {},
     "output_type": "display_data"
    }
   ],
   "source": [
    "num1 = float(input(\"please add num1\"))\n",
    "operator = input(\"please enter the operator\")\n",
    "num2 = float(input(\"please add num2\")) \n",
    "if operator == \"+\":\n",
    "    print ( num1 + num2 )\n",
    "elif operator == \"-\":\n",
    "    print ( num1 - num2 )\n",
    "elif operator == \"*\":\n",
    "    print ( num1 * num2 )\n",
    "elif operator == \"/\":\n",
    "    print ( num1 / num2 ) \n",
    "elif operator  == \"^\":\n",
    "    print ( num1 ** num2 ) \n",
    "else : \n",
    "    print (\"wrong operator try again\")\n",
    "import math\n",
    "\n",
    "def calculator():\n",
    "    \n",
    "        operation = input(\"\\nEnter operation (or type 'exit' to quit): sin , cos , tan , ln , log \").strip()\n",
    "\n",
    "        if operation.lower() == \"exit\":\n",
    "            print(\"Exiting calculator.\")\n",
    "            \n",
    "\n",
    "        if operation.startswith(\"sin\") or operation.startswith(\"cos\") or operation.startswith(\"tan\"):\n",
    "            try:\n",
    "                value = float(input(\"Enter value in degrees: \"))\n",
    "                value_rad = math.radians(value)  # Convert to radians\n",
    "\n",
    "                if operation.lower() == \"tan\" and value % 180 == 90:\n",
    "                    # Check if the angle is an odd multiple of 90 degrees\n",
    "                    print(\"Math error: Tangent undefined for 90° + n*180°.\")\n",
    "                elif operation.lower() == \"sin\":\n",
    "                    result = math.sin(value_rad)\n",
    "                    print(f\"Result: {result}\")\n",
    "                elif operation.lower() == \"cos\":\n",
    "                    result = math.cos(value_rad)\n",
    "                    print(f\"Result: {result}\")\n",
    "                elif operation.lower() == \"tan\":\n",
    "                    result = math.tan(value_rad)\n",
    "                    print(f\"Result: {result}\")\n",
    "            except ValueError:\n",
    "                print(\"Invalid input. Please enter a valid number.\")\n",
    "        \n",
    "        elif operation.lower() == \"log\":\n",
    "            try:\n",
    "                value = float(input(\"Enter value: \"))\n",
    "                if value > 0:\n",
    "                    result = math.log10(value)\n",
    "                    print(f\"Result: {result}\")\n",
    "                else:\n",
    "                    print(\"Logarithm undefined for zero or negative numbers.\")\n",
    "            except ValueError:\n",
    "                print(\"Invalid input. Please enter a valid number.\")\n",
    "        \n",
    "        elif operation.lower() == \"ln\":\n",
    "            try:\n",
    "                value = float(input(\"Enter value: \"))\n",
    "                if value > 0:\n",
    "                    result = math.log(value)\n",
    "                    print(f\"Result: {result}\")\n",
    "                else:\n",
    "                    print(\"Natural logarithm undefined for zero or negative numbers.\")\n",
    "            except ValueError:\n",
    "                print(\"Invalid input. Please enter a valid number.\")\n",
    "        \n",
    "        else:\n",
    "            print(\"Invalid operation. Please try again.\")\n",
    "\n",
    "calculator()\n",
    "\n",
    "import math\n",
    "\n",
    "def inverse_trigonometric_calculator():\n",
    "       \n",
    "        operation = input(\"Enter operation: asin ,acos , atan \").strip().lower()\n",
    "\n",
    "        if operation == \"exit\":\n",
    "            print(\"Exiting calculator.\")\n",
    "        \n",
    "\n",
    "        try:\n",
    "            # Input the value based on the selected operation\n",
    "            value = float(input(\"Enter value: \"))\n",
    "            \n",
    "            if operation == \"asin\":\n",
    "                if -1 <= value <= 1:\n",
    "                    result = math.asin(value)\n",
    "                    print(f\"Result in radians: {result}\")\n",
    "                    print(f\"Result in degrees: {math.degrees(result)}\")\n",
    "                else:\n",
    "                    print(\"Invalid input: asin is only defined for values in the range [-1, 1].\")\n",
    "            \n",
    "            elif operation == \"acos\":\n",
    "                if -1 <= value <= 1:\n",
    "                    result = math.acos(value)\n",
    "                    print(f\"Result in radians: {result}\")\n",
    "                    print(f\"Result in degrees: {math.degrees(result)}\")\n",
    "                else:\n",
    "                    print(\"Invalid input: acos is only defined for values in the range [-1, 1].\")\n",
    "            \n",
    "            elif operation == \"atan\":\n",
    "                result = math.atan(value)\n",
    "                print(f\"Result in radians: {result}\")\n",
    "                print(f\"Result in degrees: {math.degrees(result)}\")\n",
    "            \n",
    "            else:\n",
    "                print(\"Invalid operation. Please choose asin, acos, or atan.\")\n",
    "\n",
    "        except ValueError:\n",
    "            print(\"Invalid input. Please enter a valid number.\")\n",
    "\n",
    "inverse_trigonometric_calculator()\n",
    "import numpy as np\n",
    "\n",
    "def input_matrix(name):\n",
    "    print(f\"Enter the number of rows and columns for matrix {name} (e.g., '2 2' for a 2x2 matrix):\")\n",
    "    rows, cols = map(int, input().split())\n",
    "    print(f\"Enter the elements of matrix {name} row by row (space-separated):\")\n",
    "    elements = []\n",
    "    for _ in range(rows):\n",
    "        row = list(map(float, input().split()))\n",
    "        elements.append(row)\n",
    "    return np.array(elements)\n",
    "\n",
    "\n",
    "A = input_matrix(\"A\")\n",
    "B = input_matrix(\"B\")\n",
    "\n",
    "\n",
    "if A.shape == B.shape:\n",
    "    C = A + B\n",
    "    print(\"\\nMatrix Addition (A + B):\\n\", C)\n",
    "else:\n",
    "    print(\"\\nMatrix addition not possible: Matrices have different dimensions.\")\n",
    "\n",
    "if A.shape[1] == B.shape[0]:\n",
    "    D = np.dot(A, B)  # or A @ B\n",
    "    print(\"\\nMatrix Multiplication (A * B):\\n\", D)\n",
    "else:\n",
    "    print(\"\\nMatrix multiplication not possible: Column count of A must equal row count of B.\")\n",
    "\n",
    "# Matrix transpose\n",
    "E = A.T\n",
    "print(\"\\nMatrix Transpose of A:\\n\", E)\n",
    "F = B.T\n",
    "print(\"\\nMatrix Transpose of B:\\n\", F)\n",
    "\n",
    "# Determinant of a matrix\n",
    "if A.shape[0] == A.shape[1]:  # Ensure it's a square matrix\n",
    "    det_A = np.linalg.det(A)\n",
    "    print(\"\\nDeterminant of A:\", det_A)\n",
    "else:\n",
    "    print(\"\\nDeterminant not defined: A is not a square matrix.\")\n",
    "\n",
    "# Inverse of a matrix\n",
    "if A.shape[0] == A.shape[1] and np.linalg.det(A) != 0:  # Ensure it's square and invertible\n",
    "    inv_A = np.linalg.inv(A)\n",
    "    print(\"\\nInverse of A:\\n\", inv_A)\n",
    "else:\n",
    "    print(\"\\nMatrix A is not invertible.\")\n",
    "\n",
    "# Solve a system of linear equations (Ax = b)\n",
    "if A.shape[0] == A.shape[1]:  # Ensure A is square\n",
    "    print(\"\\nEnter the elements of vector b (space-separated):\")\n",
    "    b = np.array(list(map(float, input().split())))\n",
    "    if b.size == A.shape[0]:\n",
    "        x = np.linalg.solve(A, b)\n",
    "        print(\"\\nSolution to Ax = b:\\n\", x)\n",
    "    else:\n",
    "        print(\"\\nThe size of vector b does not match the size of A.\")\n",
    "else:\n",
    "    print(\"\\nCannot solve Ax = b: A is not a square matrix.\")\n",
    "\n",
    "# Eigenvalues and eigenvectors\n",
    "if A.shape[0] == A.shape[1]:  # Ensure it's square\n",
    "    eigvals, eigvecs = np.linalg.eig(A)\n",
    "    print(\"\\nEigenvalues of A:\\n\", eigvals)\n",
    "    print(\"\\nEigenvectors of A:\\n\", eigvecs)\n",
    "else:\n",
    "    print(\"\\nEigenvalues and eigenvectors not defined: A is not a square matrix.\")\n",
    "\n",
    "    \n",
    "import sympy as sp\n",
    "from scipy.integrate import solve_ivp\n",
    "import numpy as np\n",
    "import matplotlib.pyplot as plt\n",
    "\n",
    "def solve_linear_diff_eq():\n",
    "    # Define symbolic variables\n",
    "    t = sp.Symbol('t')\n",
    "    y = sp.Function('y')(t)\n",
    "    \n",
    "    # Example: Solve y' + y = e^t\n",
    "    eq = sp.Eq(y.diff(t) + y, sp.exp(t))\n",
    "    \n",
    "    # Solve the differential equation symbolically\n",
    "    sol = sp.dsolve(eq, y)\n",
    "    print(\"General Solution:\", sol)\n",
    "    \n",
    "    # Convert to numerical solution\n",
    "    def func(t, y):\n",
    "        return np.exp(t) - y\n",
    "    \n",
    "    # Initial condition: y(0) = 1\n",
    "    t_span = (0, 5)\n",
    "    y0 = [1]\n",
    "    t_eval = np.linspace(0, 5, 100)\n",
    "    \n",
    "    sol_num = solve_ivp(func, t_span, y0, t_eval=t_eval)\n",
    "    \n",
    "    # Plot the solution\n",
    "    plt.plot(sol_num.t, sol_num.y[0], label='Numerical Solution')\n",
    "    plt.xlabel('t')\n",
    "    plt.ylabel('y')\n",
    "    plt.title(\"Solution of Linear Differential Equation\")\n",
    "    plt.legend()\n",
    "    plt.grid()\n",
    "    plt.show()\n",
    "    \n",
    "solve_linear_diff_eq()\n",
    "\n",
    " "
   ]
  }
 ],
 "metadata": {
  "kernelspec": {
   "display_name": "Python 3 (ipykernel)",
   "language": "python",
   "name": "python3"
  },
  "language_info": {
   "codemirror_mode": {
    "name": "ipython",
    "version": 3
   },
   "file_extension": ".py",
   "mimetype": "text/x-python",
   "name": "python",
   "nbconvert_exporter": "python",
   "pygments_lexer": "ipython3",
   "version": "3.12.4"
  }
 },
 "nbformat": 4,
 "nbformat_minor": 5
}
